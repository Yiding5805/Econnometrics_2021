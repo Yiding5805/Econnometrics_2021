{
  "nbformat": 4,
  "nbformat_minor": 0,
  "metadata": {
    "colab": {
      "name": "M4 Active_IV2SLS.ipynb",
      "provenance": [],
      "include_colab_link": true
    },
    "kernelspec": {
      "name": "python3",
      "display_name": "Python 3"
    },
    "language_info": {
      "name": "python"
    }
  },
  "cells": [
    {
      "cell_type": "markdown",
      "metadata": {
        "id": "view-in-github",
        "colab_type": "text"
      },
      "source": [
        "<a href=\"https://colab.research.google.com/github/Yiding5805/Econnometrics_2021/blob/main/M4_Active_IV2SLS.ipynb\" target=\"_parent\"><img src=\"https://colab.research.google.com/assets/colab-badge.svg\" alt=\"Open In Colab\"/></a>"
      ]
    },
    {
      "cell_type": "markdown",
      "metadata": {
        "id": "f0G9yuVMVKsy"
      },
      "source": [
        "# **Briefings**\n",
        "\n",
        "1. Two packages:\n",
        "\n",
        "\n",
        "*   https://www.statsmodels.org/dev/generated/statsmodels.sandbox.regression.gmm.IV2SLS.html\n",
        "*   https://bashtage.github.io/linearmodels/doc/iv/examples/advanced-examples.html\n",
        "\n",
        "2. Four variables:\n",
        "\n",
        "Dependent Variables: Y\n",
        "Endogenous Variable: X\n",
        "Control variables: W\n",
        "instruments: Z\n",
        "\n",
        "3. Two regressions\n",
        "\n",
        "\n",
        "*   First: X~Z\n",
        "*   Second: Y~(X+W)\n",
        "\n",
        "\n",
        "\n"
      ]
    },
    {
      "cell_type": "markdown",
      "metadata": {
        "id": "IUvVJLif18yB"
      },
      "source": [
        ""
      ]
    },
    {
      "cell_type": "markdown",
      "metadata": {
        "id": "yN-Z8unoodnr"
      },
      "source": [
        "background readings: https://cryptobriefing.com/earning-20-apy-with-yield-app/"
      ]
    },
    {
      "cell_type": "markdown",
      "metadata": {
        "id": "CCgjIvhKWQgb"
      },
      "source": [
        "# Data Preparations"
      ]
    },
    {
      "cell_type": "markdown",
      "metadata": {
        "id": "FjsgYGqusAE5"
      },
      "source": [
        "### Date Sources \n",
        "https://docs.defipulse.com/overview-of-api-endpoints\n",
        "\n",
        "https://data-beta.defipulse.com/dashboard/egs\n",
        "\n",
        "https://docs.defipulse.com/api-docs-by-provider/defi-pulse-data/total-value-locked/total-value-locked"
      ]
    },
    {
      "cell_type": "markdown",
      "metadata": {
        "id": "-ypMOn9isF69"
      },
      "source": [
        "### Import the Historical Data of Total Value Locked"
      ]
    },
    {
      "cell_type": "code",
      "metadata": {
        "colab": {
          "base_uri": "https://localhost:8080/",
          "height": 204
        },
        "id": "NvA4Ft3xU5yg",
        "outputId": "9d9b7906-1a35-4511-82fd-ca3fe6e9fa9e"
      },
      "source": [
        "import pandas as pd\n",
        "import requests\n",
        "import json \n",
        "from datetime import datetime\n",
        "TVL= requests.get('https://data-api.defipulse.com/api/v1/defipulse/api/GetHistory?resolution=history&project=all&api-key=8f22b45c31ddc56f5723f099ba3a2c1bd02f8e45a777eb4b13e4f2b2d99b')\n",
        "TVL= TVL.json()\n",
        "TVL=pd.DataFrame(TVL)\n",
        "TVL.head()"
      ],
      "execution_count": null,
      "outputs": [
        {
          "output_type": "execute_result",
          "data": {
            "text/html": [
              "<div>\n",
              "<style scoped>\n",
              "    .dataframe tbody tr th:only-of-type {\n",
              "        vertical-align: middle;\n",
              "    }\n",
              "\n",
              "    .dataframe tbody tr th {\n",
              "        vertical-align: top;\n",
              "    }\n",
              "\n",
              "    .dataframe thead th {\n",
              "        text-align: right;\n",
              "    }\n",
              "</style>\n",
              "<table border=\"1\" class=\"dataframe\">\n",
              "  <thead>\n",
              "    <tr style=\"text-align: right;\">\n",
              "      <th></th>\n",
              "      <th>timestamp</th>\n",
              "      <th>tvlUSD</th>\n",
              "      <th>tvlETH</th>\n",
              "      <th>BTC</th>\n",
              "      <th>ETH</th>\n",
              "      <th>DAI</th>\n",
              "    </tr>\n",
              "  </thead>\n",
              "  <tbody>\n",
              "    <tr>\n",
              "      <th>0</th>\n",
              "      <td>1624420800</td>\n",
              "      <td>47229560516</td>\n",
              "      <td>2.342527e+07</td>\n",
              "      <td>146244.300041</td>\n",
              "      <td>8.457771e+06</td>\n",
              "      <td>2.324961e+09</td>\n",
              "    </tr>\n",
              "    <tr>\n",
              "      <th>1</th>\n",
              "      <td>1624406400</td>\n",
              "      <td>47357581487</td>\n",
              "      <td>2.520817e+07</td>\n",
              "      <td>160834.838905</td>\n",
              "      <td>8.494428e+06</td>\n",
              "      <td>2.511823e+09</td>\n",
              "    </tr>\n",
              "    <tr>\n",
              "      <th>2</th>\n",
              "      <td>1624320000</td>\n",
              "      <td>48201277920</td>\n",
              "      <td>2.542972e+07</td>\n",
              "      <td>163439.102616</td>\n",
              "      <td>8.594571e+06</td>\n",
              "      <td>2.561610e+09</td>\n",
              "    </tr>\n",
              "    <tr>\n",
              "      <th>3</th>\n",
              "      <td>1624233600</td>\n",
              "      <td>53182280446</td>\n",
              "      <td>2.361809e+07</td>\n",
              "      <td>155975.628396</td>\n",
              "      <td>8.656196e+06</td>\n",
              "      <td>2.631900e+09</td>\n",
              "    </tr>\n",
              "    <tr>\n",
              "      <th>4</th>\n",
              "      <td>1624147200</td>\n",
              "      <td>54729515748</td>\n",
              "      <td>2.511012e+07</td>\n",
              "      <td>172738.968039</td>\n",
              "      <td>8.681611e+06</td>\n",
              "      <td>2.843341e+09</td>\n",
              "    </tr>\n",
              "  </tbody>\n",
              "</table>\n",
              "</div>"
            ],
            "text/plain": [
              "    timestamp       tvlUSD  ...           ETH           DAI\n",
              "0  1624420800  47229560516  ...  8.457771e+06  2.324961e+09\n",
              "1  1624406400  47357581487  ...  8.494428e+06  2.511823e+09\n",
              "2  1624320000  48201277920  ...  8.594571e+06  2.561610e+09\n",
              "3  1624233600  53182280446  ...  8.656196e+06  2.631900e+09\n",
              "4  1624147200  54729515748  ...  8.681611e+06  2.843341e+09\n",
              "\n",
              "[5 rows x 6 columns]"
            ]
          },
          "metadata": {
            "tags": []
          },
          "execution_count": 1
        }
      ]
    },
    {
      "cell_type": "markdown",
      "metadata": {
        "id": "YSYc0dTwshDT"
      },
      "source": [
        "### Epoch & Unix Timestamp Conversion Tools: \n",
        "\n",
        "https://www.epochconverter.com/"
      ]
    },
    {
      "cell_type": "code",
      "metadata": {
        "colab": {
          "base_uri": "https://localhost:8080/"
        },
        "id": "mA0dLPWOsc__",
        "outputId": "cd134610-6b3e-40e2-bf61-bed33d8109a7"
      },
      "source": [
        "import datetime\n",
        "TVL['timestamp']=TVL['timestamp'].astype(int)\n",
        "TVL.dtypes"
      ],
      "execution_count": null,
      "outputs": [
        {
          "output_type": "execute_result",
          "data": {
            "text/plain": [
              "timestamp      int64\n",
              "tvlUSD         int64\n",
              "tvlETH       float64\n",
              "BTC          float64\n",
              "ETH          float64\n",
              "DAI          float64\n",
              "dtype: object"
            ]
          },
          "metadata": {
            "tags": []
          },
          "execution_count": 2
        }
      ]
    },
    {
      "cell_type": "code",
      "metadata": {
        "colab": {
          "base_uri": "https://localhost:8080/",
          "height": 204
        },
        "id": "ejHxsc6vuTYk",
        "outputId": "f39eb993-af2b-4a77-e275-8650de232f0e"
      },
      "source": [
        "TVL['time']=TVL['timestamp'].apply(lambda x: datetime.datetime.utcfromtimestamp(x).replace(tzinfo=datetime.timezone.utc))\n",
        "TVL.head()"
      ],
      "execution_count": null,
      "outputs": [
        {
          "output_type": "execute_result",
          "data": {
            "text/html": [
              "<div>\n",
              "<style scoped>\n",
              "    .dataframe tbody tr th:only-of-type {\n",
              "        vertical-align: middle;\n",
              "    }\n",
              "\n",
              "    .dataframe tbody tr th {\n",
              "        vertical-align: top;\n",
              "    }\n",
              "\n",
              "    .dataframe thead th {\n",
              "        text-align: right;\n",
              "    }\n",
              "</style>\n",
              "<table border=\"1\" class=\"dataframe\">\n",
              "  <thead>\n",
              "    <tr style=\"text-align: right;\">\n",
              "      <th></th>\n",
              "      <th>timestamp</th>\n",
              "      <th>tvlUSD</th>\n",
              "      <th>tvlETH</th>\n",
              "      <th>BTC</th>\n",
              "      <th>ETH</th>\n",
              "      <th>DAI</th>\n",
              "      <th>time</th>\n",
              "    </tr>\n",
              "  </thead>\n",
              "  <tbody>\n",
              "    <tr>\n",
              "      <th>0</th>\n",
              "      <td>1624420800</td>\n",
              "      <td>47229560516</td>\n",
              "      <td>2.342527e+07</td>\n",
              "      <td>146244.300041</td>\n",
              "      <td>8.457771e+06</td>\n",
              "      <td>2.324961e+09</td>\n",
              "      <td>2021-06-23 04:00:00+00:00</td>\n",
              "    </tr>\n",
              "    <tr>\n",
              "      <th>1</th>\n",
              "      <td>1624406400</td>\n",
              "      <td>47357581487</td>\n",
              "      <td>2.520817e+07</td>\n",
              "      <td>160834.838905</td>\n",
              "      <td>8.494428e+06</td>\n",
              "      <td>2.511823e+09</td>\n",
              "      <td>2021-06-23 00:00:00+00:00</td>\n",
              "    </tr>\n",
              "    <tr>\n",
              "      <th>2</th>\n",
              "      <td>1624320000</td>\n",
              "      <td>48201277920</td>\n",
              "      <td>2.542972e+07</td>\n",
              "      <td>163439.102616</td>\n",
              "      <td>8.594571e+06</td>\n",
              "      <td>2.561610e+09</td>\n",
              "      <td>2021-06-22 00:00:00+00:00</td>\n",
              "    </tr>\n",
              "    <tr>\n",
              "      <th>3</th>\n",
              "      <td>1624233600</td>\n",
              "      <td>53182280446</td>\n",
              "      <td>2.361809e+07</td>\n",
              "      <td>155975.628396</td>\n",
              "      <td>8.656196e+06</td>\n",
              "      <td>2.631900e+09</td>\n",
              "      <td>2021-06-21 00:00:00+00:00</td>\n",
              "    </tr>\n",
              "    <tr>\n",
              "      <th>4</th>\n",
              "      <td>1624147200</td>\n",
              "      <td>54729515748</td>\n",
              "      <td>2.511012e+07</td>\n",
              "      <td>172738.968039</td>\n",
              "      <td>8.681611e+06</td>\n",
              "      <td>2.843341e+09</td>\n",
              "      <td>2021-06-20 00:00:00+00:00</td>\n",
              "    </tr>\n",
              "  </tbody>\n",
              "</table>\n",
              "</div>"
            ],
            "text/plain": [
              "    timestamp       tvlUSD  ...           DAI                      time\n",
              "0  1624420800  47229560516  ...  2.324961e+09 2021-06-23 04:00:00+00:00\n",
              "1  1624406400  47357581487  ...  2.511823e+09 2021-06-23 00:00:00+00:00\n",
              "2  1624320000  48201277920  ...  2.561610e+09 2021-06-22 00:00:00+00:00\n",
              "3  1624233600  53182280446  ...  2.631900e+09 2021-06-21 00:00:00+00:00\n",
              "4  1624147200  54729515748  ...  2.843341e+09 2021-06-20 00:00:00+00:00\n",
              "\n",
              "[5 rows x 7 columns]"
            ]
          },
          "metadata": {
            "tags": []
          },
          "execution_count": 3
        }
      ]
    },
    {
      "cell_type": "code",
      "metadata": {
        "colab": {
          "base_uri": "https://localhost:8080/",
          "height": 204
        },
        "id": "Tbt5RqFyua50",
        "outputId": "7c06f967-01ba-4fde-f7ad-1c42dcea1cb8"
      },
      "source": [
        "TVL['date'] = pd.to_datetime(TVL['time']).dt.date\n",
        "TVL.head()"
      ],
      "execution_count": null,
      "outputs": [
        {
          "output_type": "execute_result",
          "data": {
            "text/html": [
              "<div>\n",
              "<style scoped>\n",
              "    .dataframe tbody tr th:only-of-type {\n",
              "        vertical-align: middle;\n",
              "    }\n",
              "\n",
              "    .dataframe tbody tr th {\n",
              "        vertical-align: top;\n",
              "    }\n",
              "\n",
              "    .dataframe thead th {\n",
              "        text-align: right;\n",
              "    }\n",
              "</style>\n",
              "<table border=\"1\" class=\"dataframe\">\n",
              "  <thead>\n",
              "    <tr style=\"text-align: right;\">\n",
              "      <th></th>\n",
              "      <th>timestamp</th>\n",
              "      <th>tvlUSD</th>\n",
              "      <th>tvlETH</th>\n",
              "      <th>BTC</th>\n",
              "      <th>ETH</th>\n",
              "      <th>DAI</th>\n",
              "      <th>time</th>\n",
              "      <th>date</th>\n",
              "    </tr>\n",
              "  </thead>\n",
              "  <tbody>\n",
              "    <tr>\n",
              "      <th>0</th>\n",
              "      <td>1624420800</td>\n",
              "      <td>47229560516</td>\n",
              "      <td>2.342527e+07</td>\n",
              "      <td>146244.300041</td>\n",
              "      <td>8.457771e+06</td>\n",
              "      <td>2.324961e+09</td>\n",
              "      <td>2021-06-23 04:00:00+00:00</td>\n",
              "      <td>2021-06-23</td>\n",
              "    </tr>\n",
              "    <tr>\n",
              "      <th>1</th>\n",
              "      <td>1624406400</td>\n",
              "      <td>47357581487</td>\n",
              "      <td>2.520817e+07</td>\n",
              "      <td>160834.838905</td>\n",
              "      <td>8.494428e+06</td>\n",
              "      <td>2.511823e+09</td>\n",
              "      <td>2021-06-23 00:00:00+00:00</td>\n",
              "      <td>2021-06-23</td>\n",
              "    </tr>\n",
              "    <tr>\n",
              "      <th>2</th>\n",
              "      <td>1624320000</td>\n",
              "      <td>48201277920</td>\n",
              "      <td>2.542972e+07</td>\n",
              "      <td>163439.102616</td>\n",
              "      <td>8.594571e+06</td>\n",
              "      <td>2.561610e+09</td>\n",
              "      <td>2021-06-22 00:00:00+00:00</td>\n",
              "      <td>2021-06-22</td>\n",
              "    </tr>\n",
              "    <tr>\n",
              "      <th>3</th>\n",
              "      <td>1624233600</td>\n",
              "      <td>53182280446</td>\n",
              "      <td>2.361809e+07</td>\n",
              "      <td>155975.628396</td>\n",
              "      <td>8.656196e+06</td>\n",
              "      <td>2.631900e+09</td>\n",
              "      <td>2021-06-21 00:00:00+00:00</td>\n",
              "      <td>2021-06-21</td>\n",
              "    </tr>\n",
              "    <tr>\n",
              "      <th>4</th>\n",
              "      <td>1624147200</td>\n",
              "      <td>54729515748</td>\n",
              "      <td>2.511012e+07</td>\n",
              "      <td>172738.968039</td>\n",
              "      <td>8.681611e+06</td>\n",
              "      <td>2.843341e+09</td>\n",
              "      <td>2021-06-20 00:00:00+00:00</td>\n",
              "      <td>2021-06-20</td>\n",
              "    </tr>\n",
              "  </tbody>\n",
              "</table>\n",
              "</div>"
            ],
            "text/plain": [
              "    timestamp       tvlUSD  ...                      time        date\n",
              "0  1624420800  47229560516  ... 2021-06-23 04:00:00+00:00  2021-06-23\n",
              "1  1624406400  47357581487  ... 2021-06-23 00:00:00+00:00  2021-06-23\n",
              "2  1624320000  48201277920  ... 2021-06-22 00:00:00+00:00  2021-06-22\n",
              "3  1624233600  53182280446  ... 2021-06-21 00:00:00+00:00  2021-06-21\n",
              "4  1624147200  54729515748  ... 2021-06-20 00:00:00+00:00  2021-06-20\n",
              "\n",
              "[5 rows x 8 columns]"
            ]
          },
          "metadata": {
            "tags": []
          },
          "execution_count": 4
        }
      ]
    },
    {
      "cell_type": "code",
      "metadata": {
        "colab": {
          "base_uri": "https://localhost:8080/"
        },
        "id": "-cMJinDc1D5z",
        "outputId": "f02f87e9-35a1-4481-d132-9fea793374f8"
      },
      "source": [
        "TVL=TVL.drop(columns='time')\n",
        "TVL['date']=pd.to_datetime(TVL['date'])\n",
        "TVL.dtypes"
      ],
      "execution_count": null,
      "outputs": [
        {
          "output_type": "execute_result",
          "data": {
            "text/plain": [
              "timestamp             int64\n",
              "tvlUSD                int64\n",
              "tvlETH              float64\n",
              "BTC                 float64\n",
              "ETH                 float64\n",
              "DAI                 float64\n",
              "date         datetime64[ns]\n",
              "dtype: object"
            ]
          },
          "metadata": {
            "tags": []
          },
          "execution_count": 5
        }
      ]
    },
    {
      "cell_type": "markdown",
      "metadata": {
        "id": "zqQ0daK2wMQN"
      },
      "source": [
        "### Import the data for Ethereum Prices"
      ]
    },
    {
      "cell_type": "markdown",
      "metadata": {
        "id": "mYlmGrgczaPF"
      },
      "source": [
        "[Data Metrics](https://github.com/coinmetrics-io/data/blob/master/csv/metrics.csv)"
      ]
    },
    {
      "cell_type": "code",
      "metadata": {
        "colab": {
          "base_uri": "https://localhost:8080/"
        },
        "id": "QwyZPFlJzT6-",
        "outputId": "de2b77cc-278c-4754-c31c-f72a7a1839b2"
      },
      "source": [
        "df_eth=pd.read_csv(\"https://raw.githubusercontent.com/coinmetrics-io/data/master/csv/eth.csv\",usecols=([\"time\",\"AdrActCnt\",\"CapMrktCurUSD\",\"TxTfrValAdjUSD\",\"AdrBalCnt\",\"NVTAdj90\",\"SplyCur\"]))\n",
        "df_eth['time']=pd.to_datetime(df_eth['time'])\n",
        "df_eth.dtypes"
      ],
      "execution_count": null,
      "outputs": [
        {
          "output_type": "execute_result",
          "data": {
            "text/plain": [
              "time              datetime64[ns]\n",
              "AdrActCnt                float64\n",
              "AdrBalCnt                float64\n",
              "CapMrktCurUSD            float64\n",
              "NVTAdj90                 float64\n",
              "SplyCur                  float64\n",
              "TxTfrValAdjUSD           float64\n",
              "dtype: object"
            ]
          },
          "metadata": {
            "tags": []
          },
          "execution_count": 6
        }
      ]
    },
    {
      "cell_type": "markdown",
      "metadata": {
        "id": "2pgSXDO11eZ-"
      },
      "source": [
        "### Merge the two Data Frame"
      ]
    },
    {
      "cell_type": "code",
      "metadata": {
        "colab": {
          "base_uri": "https://localhost:8080/",
          "height": 289
        },
        "id": "wuPJKRK4zxS6",
        "outputId": "202f8e37-fadf-4e7d-db73-8e58f8bda74f"
      },
      "source": [
        "df =df_eth.merge(TVL, left_on='time', right_on='date')\n",
        "df.head()"
      ],
      "execution_count": null,
      "outputs": [
        {
          "output_type": "execute_result",
          "data": {
            "text/html": [
              "<div>\n",
              "<style scoped>\n",
              "    .dataframe tbody tr th:only-of-type {\n",
              "        vertical-align: middle;\n",
              "    }\n",
              "\n",
              "    .dataframe tbody tr th {\n",
              "        vertical-align: top;\n",
              "    }\n",
              "\n",
              "    .dataframe thead th {\n",
              "        text-align: right;\n",
              "    }\n",
              "</style>\n",
              "<table border=\"1\" class=\"dataframe\">\n",
              "  <thead>\n",
              "    <tr style=\"text-align: right;\">\n",
              "      <th></th>\n",
              "      <th>time</th>\n",
              "      <th>AdrActCnt</th>\n",
              "      <th>AdrBalCnt</th>\n",
              "      <th>CapMrktCurUSD</th>\n",
              "      <th>NVTAdj90</th>\n",
              "      <th>SplyCur</th>\n",
              "      <th>TxTfrValAdjUSD</th>\n",
              "      <th>timestamp</th>\n",
              "      <th>tvlUSD</th>\n",
              "      <th>tvlETH</th>\n",
              "      <th>BTC</th>\n",
              "      <th>ETH</th>\n",
              "      <th>DAI</th>\n",
              "      <th>date</th>\n",
              "    </tr>\n",
              "  </thead>\n",
              "  <tbody>\n",
              "    <tr>\n",
              "      <th>0</th>\n",
              "      <td>2017-08-02</td>\n",
              "      <td>126128.0</td>\n",
              "      <td>2563959.0</td>\n",
              "      <td>2.039684e+10</td>\n",
              "      <td>20.362229</td>\n",
              "      <td>9.374206e+07</td>\n",
              "      <td>6.780871e+08</td>\n",
              "      <td>1501632000</td>\n",
              "      <td>0</td>\n",
              "      <td>0.000000</td>\n",
              "      <td>0.0</td>\n",
              "      <td>0.0</td>\n",
              "      <td>0.0</td>\n",
              "      <td>2017-08-02</td>\n",
              "    </tr>\n",
              "    <tr>\n",
              "      <th>1</th>\n",
              "      <td>2017-08-03</td>\n",
              "      <td>132391.0</td>\n",
              "      <td>2583277.0</td>\n",
              "      <td>2.100563e+10</td>\n",
              "      <td>20.979627</td>\n",
              "      <td>9.376303e+07</td>\n",
              "      <td>6.062566e+08</td>\n",
              "      <td>1501718400</td>\n",
              "      <td>4</td>\n",
              "      <td>0.018339</td>\n",
              "      <td>0.0</td>\n",
              "      <td>0.0</td>\n",
              "      <td>0.0</td>\n",
              "      <td>2017-08-03</td>\n",
              "    </tr>\n",
              "    <tr>\n",
              "      <th>2</th>\n",
              "      <td>2017-08-04</td>\n",
              "      <td>135064.0</td>\n",
              "      <td>2605667.0</td>\n",
              "      <td>2.077052e+10</td>\n",
              "      <td>20.714810</td>\n",
              "      <td>9.378433e+07</td>\n",
              "      <td>5.206240e+08</td>\n",
              "      <td>1501804800</td>\n",
              "      <td>4</td>\n",
              "      <td>0.017826</td>\n",
              "      <td>0.0</td>\n",
              "      <td>0.0</td>\n",
              "      <td>0.0</td>\n",
              "      <td>2017-08-04</td>\n",
              "    </tr>\n",
              "    <tr>\n",
              "      <th>3</th>\n",
              "      <td>2017-08-05</td>\n",
              "      <td>134502.0</td>\n",
              "      <td>2624386.0</td>\n",
              "      <td>2.335192e+10</td>\n",
              "      <td>23.205816</td>\n",
              "      <td>9.380552e+07</td>\n",
              "      <td>6.665590e+08</td>\n",
              "      <td>1501891200</td>\n",
              "      <td>5</td>\n",
              "      <td>0.022665</td>\n",
              "      <td>0.0</td>\n",
              "      <td>0.0</td>\n",
              "      <td>0.0</td>\n",
              "      <td>2017-08-05</td>\n",
              "    </tr>\n",
              "    <tr>\n",
              "      <th>4</th>\n",
              "      <td>2017-08-06</td>\n",
              "      <td>135792.0</td>\n",
              "      <td>2640032.0</td>\n",
              "      <td>2.496085e+10</td>\n",
              "      <td>24.667311</td>\n",
              "      <td>9.382679e+07</td>\n",
              "      <td>9.229966e+08</td>\n",
              "      <td>1501977600</td>\n",
              "      <td>5</td>\n",
              "      <td>0.019756</td>\n",
              "      <td>0.0</td>\n",
              "      <td>0.0</td>\n",
              "      <td>0.0</td>\n",
              "      <td>2017-08-06</td>\n",
              "    </tr>\n",
              "  </tbody>\n",
              "</table>\n",
              "</div>"
            ],
            "text/plain": [
              "        time  AdrActCnt  AdrBalCnt  CapMrktCurUSD  ...  BTC  ETH  DAI       date\n",
              "0 2017-08-02   126128.0  2563959.0   2.039684e+10  ...  0.0  0.0  0.0 2017-08-02\n",
              "1 2017-08-03   132391.0  2583277.0   2.100563e+10  ...  0.0  0.0  0.0 2017-08-03\n",
              "2 2017-08-04   135064.0  2605667.0   2.077052e+10  ...  0.0  0.0  0.0 2017-08-04\n",
              "3 2017-08-05   134502.0  2624386.0   2.335192e+10  ...  0.0  0.0  0.0 2017-08-05\n",
              "4 2017-08-06   135792.0  2640032.0   2.496085e+10  ...  0.0  0.0  0.0 2017-08-06\n",
              "\n",
              "[5 rows x 14 columns]"
            ]
          },
          "metadata": {
            "tags": []
          },
          "execution_count": 7
        }
      ]
    },
    {
      "cell_type": "code",
      "metadata": {
        "id": "HHJX4hy609CY"
      },
      "source": [
        "df=df[[\"date\",\"tvlUSD\",\"AdrActCnt\",\"SplyCur\",\"AdrBalCnt\"]]"
      ],
      "execution_count": null,
      "outputs": []
    },
    {
      "cell_type": "code",
      "metadata": {
        "id": "iI33Hf1FDOEZ"
      },
      "source": [
        ""
      ],
      "execution_count": null,
      "outputs": []
    },
    {
      "cell_type": "markdown",
      "metadata": {
        "id": "TYUpm17R1-dp"
      },
      "source": [
        "# Test Instrument Validities\n",
        "\n",
        "Y: \"tvlUSD\"\n",
        "\n",
        "X: \"AdrActCnt\"\n",
        "\n",
        "Z: \"SplyCur\"\n",
        "\n",
        "W: \"AdrBalCnt\""
      ]
    },
    {
      "cell_type": "code",
      "metadata": {
        "colab": {
          "base_uri": "https://localhost:8080/",
          "height": 111
        },
        "id": "LAM6AcsE2y0Q",
        "outputId": "84709085-0e97-45b4-ec38-0ddbe786411a"
      },
      "source": [
        "df[[\"AdrActCnt\",\"SplyCur\"]].corr()"
      ],
      "execution_count": null,
      "outputs": [
        {
          "output_type": "execute_result",
          "data": {
            "text/html": [
              "<div>\n",
              "<style scoped>\n",
              "    .dataframe tbody tr th:only-of-type {\n",
              "        vertical-align: middle;\n",
              "    }\n",
              "\n",
              "    .dataframe tbody tr th {\n",
              "        vertical-align: top;\n",
              "    }\n",
              "\n",
              "    .dataframe thead th {\n",
              "        text-align: right;\n",
              "    }\n",
              "</style>\n",
              "<table border=\"1\" class=\"dataframe\">\n",
              "  <thead>\n",
              "    <tr style=\"text-align: right;\">\n",
              "      <th></th>\n",
              "      <th>AdrActCnt</th>\n",
              "      <th>SplyCur</th>\n",
              "    </tr>\n",
              "  </thead>\n",
              "  <tbody>\n",
              "    <tr>\n",
              "      <th>AdrActCnt</th>\n",
              "      <td>1.000000</td>\n",
              "      <td>0.610777</td>\n",
              "    </tr>\n",
              "    <tr>\n",
              "      <th>SplyCur</th>\n",
              "      <td>0.610777</td>\n",
              "      <td>1.000000</td>\n",
              "    </tr>\n",
              "  </tbody>\n",
              "</table>\n",
              "</div>"
            ],
            "text/plain": [
              "           AdrActCnt   SplyCur\n",
              "AdrActCnt   1.000000  0.610777\n",
              "SplyCur     0.610777  1.000000"
            ]
          },
          "metadata": {
            "tags": []
          },
          "execution_count": 9
        }
      ]
    },
    {
      "cell_type": "markdown",
      "metadata": {
        "id": "6366aGHi3kt7"
      },
      "source": [
        "# Using the Linear Model Package\n",
        "\n",
        "https://bashtage.github.io/linearmodels/doc/iv/index.html"
      ]
    },
    {
      "cell_type": "code",
      "metadata": {
        "colab": {
          "base_uri": "https://localhost:8080/"
        },
        "id": "I6XzAwjZ3tmx",
        "outputId": "bc94ef5e-30a3-4bb1-e599-74dcdf8a4790"
      },
      "source": [
        "pip install linearmodels"
      ],
      "execution_count": null,
      "outputs": [
        {
          "output_type": "stream",
          "text": [
            "Collecting linearmodels\n",
            "\u001b[?25l  Downloading https://files.pythonhosted.org/packages/b2/d6/75c6c953a98edaa85647c8b40a335e541c76a9095767382dee009c01e445/linearmodels-4.24-cp37-cp37m-manylinux1_x86_64.whl (1.5MB)\n",
            "\r\u001b[K     |▎                               | 10kB 5.1MB/s eta 0:00:01\r\u001b[K     |▌                               | 20kB 8.2MB/s eta 0:00:01\r\u001b[K     |▊                               | 30kB 11.5MB/s eta 0:00:01\r\u001b[K     |█                               | 40kB 14.5MB/s eta 0:00:01\r\u001b[K     |█▏                              | 51kB 13.7MB/s eta 0:00:01\r\u001b[K     |█▍                              | 61kB 10.3MB/s eta 0:00:01\r\u001b[K     |█▋                              | 71kB 9.8MB/s eta 0:00:01\r\u001b[K     |█▉                              | 81kB 10.8MB/s eta 0:00:01\r\u001b[K     |██                              | 92kB 11.8MB/s eta 0:00:01\r\u001b[K     |██▎                             | 102kB 12.9MB/s eta 0:00:01\r\u001b[K     |██▌                             | 112kB 12.9MB/s eta 0:00:01\r\u001b[K     |██▊                             | 122kB 12.9MB/s eta 0:00:01\r\u001b[K     |███                             | 133kB 12.9MB/s eta 0:00:01\r\u001b[K     |███▏                            | 143kB 12.9MB/s eta 0:00:01\r\u001b[K     |███▍                            | 153kB 12.9MB/s eta 0:00:01\r\u001b[K     |███▋                            | 163kB 12.9MB/s eta 0:00:01\r\u001b[K     |███▉                            | 174kB 12.9MB/s eta 0:00:01\r\u001b[K     |████                            | 184kB 12.9MB/s eta 0:00:01\r\u001b[K     |████▎                           | 194kB 12.9MB/s eta 0:00:01\r\u001b[K     |████▌                           | 204kB 12.9MB/s eta 0:00:01\r\u001b[K     |████▊                           | 215kB 12.9MB/s eta 0:00:01\r\u001b[K     |█████                           | 225kB 12.9MB/s eta 0:00:01\r\u001b[K     |█████▏                          | 235kB 12.9MB/s eta 0:00:01\r\u001b[K     |█████▍                          | 245kB 12.9MB/s eta 0:00:01\r\u001b[K     |█████▋                          | 256kB 12.9MB/s eta 0:00:01\r\u001b[K     |█████▉                          | 266kB 12.9MB/s eta 0:00:01\r\u001b[K     |██████                          | 276kB 12.9MB/s eta 0:00:01\r\u001b[K     |██████▎                         | 286kB 12.9MB/s eta 0:00:01\r\u001b[K     |██████▌                         | 296kB 12.9MB/s eta 0:00:01\r\u001b[K     |██████▊                         | 307kB 12.9MB/s eta 0:00:01\r\u001b[K     |███████                         | 317kB 12.9MB/s eta 0:00:01\r\u001b[K     |███████▏                        | 327kB 12.9MB/s eta 0:00:01\r\u001b[K     |███████▍                        | 337kB 12.9MB/s eta 0:00:01\r\u001b[K     |███████▋                        | 348kB 12.9MB/s eta 0:00:01\r\u001b[K     |███████▉                        | 358kB 12.9MB/s eta 0:00:01\r\u001b[K     |████████                        | 368kB 12.9MB/s eta 0:00:01\r\u001b[K     |████████▎                       | 378kB 12.9MB/s eta 0:00:01\r\u001b[K     |████████▌                       | 389kB 12.9MB/s eta 0:00:01\r\u001b[K     |████████▊                       | 399kB 12.9MB/s eta 0:00:01\r\u001b[K     |█████████                       | 409kB 12.9MB/s eta 0:00:01\r\u001b[K     |█████████▏                      | 419kB 12.9MB/s eta 0:00:01\r\u001b[K     |█████████▍                      | 430kB 12.9MB/s eta 0:00:01\r\u001b[K     |█████████▋                      | 440kB 12.9MB/s eta 0:00:01\r\u001b[K     |█████████▉                      | 450kB 12.9MB/s eta 0:00:01\r\u001b[K     |██████████                      | 460kB 12.9MB/s eta 0:00:01\r\u001b[K     |██████████▎                     | 471kB 12.9MB/s eta 0:00:01\r\u001b[K     |██████████▌                     | 481kB 12.9MB/s eta 0:00:01\r\u001b[K     |██████████▊                     | 491kB 12.9MB/s eta 0:00:01\r\u001b[K     |███████████                     | 501kB 12.9MB/s eta 0:00:01\r\u001b[K     |███████████▏                    | 512kB 12.9MB/s eta 0:00:01\r\u001b[K     |███████████▍                    | 522kB 12.9MB/s eta 0:00:01\r\u001b[K     |███████████▋                    | 532kB 12.9MB/s eta 0:00:01\r\u001b[K     |███████████▉                    | 542kB 12.9MB/s eta 0:00:01\r\u001b[K     |████████████                    | 552kB 12.9MB/s eta 0:00:01\r\u001b[K     |████████████▎                   | 563kB 12.9MB/s eta 0:00:01\r\u001b[K     |████████████▌                   | 573kB 12.9MB/s eta 0:00:01\r\u001b[K     |████████████▊                   | 583kB 12.9MB/s eta 0:00:01\r\u001b[K     |█████████████                   | 593kB 12.9MB/s eta 0:00:01\r\u001b[K     |█████████████▏                  | 604kB 12.9MB/s eta 0:00:01\r\u001b[K     |█████████████▍                  | 614kB 12.9MB/s eta 0:00:01\r\u001b[K     |█████████████▋                  | 624kB 12.9MB/s eta 0:00:01\r\u001b[K     |█████████████▉                  | 634kB 12.9MB/s eta 0:00:01\r\u001b[K     |██████████████                  | 645kB 12.9MB/s eta 0:00:01\r\u001b[K     |██████████████▎                 | 655kB 12.9MB/s eta 0:00:01\r\u001b[K     |██████████████▌                 | 665kB 12.9MB/s eta 0:00:01\r\u001b[K     |██████████████▊                 | 675kB 12.9MB/s eta 0:00:01\r\u001b[K     |███████████████                 | 686kB 12.9MB/s eta 0:00:01\r\u001b[K     |███████████████▏                | 696kB 12.9MB/s eta 0:00:01\r\u001b[K     |███████████████▍                | 706kB 12.9MB/s eta 0:00:01\r\u001b[K     |███████████████▋                | 716kB 12.9MB/s eta 0:00:01\r\u001b[K     |███████████████▉                | 727kB 12.9MB/s eta 0:00:01\r\u001b[K     |████████████████                | 737kB 12.9MB/s eta 0:00:01\r\u001b[K     |████████████████▎               | 747kB 12.9MB/s eta 0:00:01\r\u001b[K     |████████████████▌               | 757kB 12.9MB/s eta 0:00:01\r\u001b[K     |████████████████▊               | 768kB 12.9MB/s eta 0:00:01\r\u001b[K     |█████████████████               | 778kB 12.9MB/s eta 0:00:01\r\u001b[K     |█████████████████▏              | 788kB 12.9MB/s eta 0:00:01\r\u001b[K     |█████████████████▍              | 798kB 12.9MB/s eta 0:00:01\r\u001b[K     |█████████████████▋              | 808kB 12.9MB/s eta 0:00:01\r\u001b[K     |█████████████████▉              | 819kB 12.9MB/s eta 0:00:01\r\u001b[K     |██████████████████              | 829kB 12.9MB/s eta 0:00:01\r\u001b[K     |██████████████████▎             | 839kB 12.9MB/s eta 0:00:01\r\u001b[K     |██████████████████▌             | 849kB 12.9MB/s eta 0:00:01\r\u001b[K     |██████████████████▊             | 860kB 12.9MB/s eta 0:00:01\r\u001b[K     |███████████████████             | 870kB 12.9MB/s eta 0:00:01\r\u001b[K     |███████████████████▏            | 880kB 12.9MB/s eta 0:00:01\r\u001b[K     |███████████████████▍            | 890kB 12.9MB/s eta 0:00:01\r\u001b[K     |███████████████████▋            | 901kB 12.9MB/s eta 0:00:01\r\u001b[K     |███████████████████▉            | 911kB 12.9MB/s eta 0:00:01\r\u001b[K     |████████████████████            | 921kB 12.9MB/s eta 0:00:01\r\u001b[K     |████████████████████▎           | 931kB 12.9MB/s eta 0:00:01\r\u001b[K     |████████████████████▌           | 942kB 12.9MB/s eta 0:00:01\r\u001b[K     |████████████████████▊           | 952kB 12.9MB/s eta 0:00:01\r\u001b[K     |█████████████████████           | 962kB 12.9MB/s eta 0:00:01\r\u001b[K     |█████████████████████▏          | 972kB 12.9MB/s eta 0:00:01\r\u001b[K     |█████████████████████▍          | 983kB 12.9MB/s eta 0:00:01\r\u001b[K     |█████████████████████▋          | 993kB 12.9MB/s eta 0:00:01\r\u001b[K     |█████████████████████▉          | 1.0MB 12.9MB/s eta 0:00:01\r\u001b[K     |██████████████████████          | 1.0MB 12.9MB/s eta 0:00:01\r\u001b[K     |██████████████████████▎         | 1.0MB 12.9MB/s eta 0:00:01\r\u001b[K     |██████████████████████▌         | 1.0MB 12.9MB/s eta 0:00:01\r\u001b[K     |██████████████████████▊         | 1.0MB 12.9MB/s eta 0:00:01\r\u001b[K     |███████████████████████         | 1.1MB 12.9MB/s eta 0:00:01\r\u001b[K     |███████████████████████▏        | 1.1MB 12.9MB/s eta 0:00:01\r\u001b[K     |███████████████████████▍        | 1.1MB 12.9MB/s eta 0:00:01\r\u001b[K     |███████████████████████▋        | 1.1MB 12.9MB/s eta 0:00:01\r\u001b[K     |███████████████████████▉        | 1.1MB 12.9MB/s eta 0:00:01\r\u001b[K     |████████████████████████        | 1.1MB 12.9MB/s eta 0:00:01\r\u001b[K     |████████████████████████▎       | 1.1MB 12.9MB/s eta 0:00:01\r\u001b[K     |████████████████████████▌       | 1.1MB 12.9MB/s eta 0:00:01\r\u001b[K     |████████████████████████▊       | 1.1MB 12.9MB/s eta 0:00:01\r\u001b[K     |█████████████████████████       | 1.1MB 12.9MB/s eta 0:00:01\r\u001b[K     |█████████████████████████▏      | 1.2MB 12.9MB/s eta 0:00:01\r\u001b[K     |█████████████████████████▍      | 1.2MB 12.9MB/s eta 0:00:01\r\u001b[K     |█████████████████████████▋      | 1.2MB 12.9MB/s eta 0:00:01\r\u001b[K     |█████████████████████████▉      | 1.2MB 12.9MB/s eta 0:00:01\r\u001b[K     |██████████████████████████      | 1.2MB 12.9MB/s eta 0:00:01\r\u001b[K     |██████████████████████████▎     | 1.2MB 12.9MB/s eta 0:00:01\r\u001b[K     |██████████████████████████▌     | 1.2MB 12.9MB/s eta 0:00:01\r\u001b[K     |██████████████████████████▊     | 1.2MB 12.9MB/s eta 0:00:01\r\u001b[K     |███████████████████████████     | 1.2MB 12.9MB/s eta 0:00:01\r\u001b[K     |███████████████████████████▏    | 1.2MB 12.9MB/s eta 0:00:01\r\u001b[K     |███████████████████████████▍    | 1.3MB 12.9MB/s eta 0:00:01\r\u001b[K     |███████████████████████████▋    | 1.3MB 12.9MB/s eta 0:00:01\r\u001b[K     |███████████████████████████▉    | 1.3MB 12.9MB/s eta 0:00:01\r\u001b[K     |████████████████████████████    | 1.3MB 12.9MB/s eta 0:00:01\r\u001b[K     |████████████████████████████▎   | 1.3MB 12.9MB/s eta 0:00:01\r\u001b[K     |████████████████████████████▌   | 1.3MB 12.9MB/s eta 0:00:01\r\u001b[K     |████████████████████████████▊   | 1.3MB 12.9MB/s eta 0:00:01\r\u001b[K     |█████████████████████████████   | 1.3MB 12.9MB/s eta 0:00:01\r\u001b[K     |█████████████████████████████▏  | 1.3MB 12.9MB/s eta 0:00:01\r\u001b[K     |█████████████████████████████▍  | 1.4MB 12.9MB/s eta 0:00:01\r\u001b[K     |█████████████████████████████▋  | 1.4MB 12.9MB/s eta 0:00:01\r\u001b[K     |█████████████████████████████▉  | 1.4MB 12.9MB/s eta 0:00:01\r\u001b[K     |██████████████████████████████  | 1.4MB 12.9MB/s eta 0:00:01\r\u001b[K     |██████████████████████████████▎ | 1.4MB 12.9MB/s eta 0:00:01\r\u001b[K     |██████████████████████████████▌ | 1.4MB 12.9MB/s eta 0:00:01\r\u001b[K     |██████████████████████████████▊ | 1.4MB 12.9MB/s eta 0:00:01\r\u001b[K     |███████████████████████████████ | 1.4MB 12.9MB/s eta 0:00:01\r\u001b[K     |███████████████████████████████▏| 1.4MB 12.9MB/s eta 0:00:01\r\u001b[K     |███████████████████████████████▍| 1.4MB 12.9MB/s eta 0:00:01\r\u001b[K     |███████████████████████████████▋| 1.5MB 12.9MB/s eta 0:00:01\r\u001b[K     |███████████████████████████████▉| 1.5MB 12.9MB/s eta 0:00:01\r\u001b[K     |████████████████████████████████| 1.5MB 12.9MB/s \n",
            "\u001b[?25hRequirement already satisfied: scipy>=1.2 in /usr/local/lib/python3.7/dist-packages (from linearmodels) (1.4.1)\n",
            "Collecting mypy-extensions>=0.4\n",
            "  Downloading https://files.pythonhosted.org/packages/5c/eb/975c7c080f3223a5cdaff09612f3a5221e4ba534f7039db34c35d95fa6a5/mypy_extensions-0.4.3-py2.py3-none-any.whl\n",
            "Requirement already satisfied: Cython>=0.29.21 in /usr/local/lib/python3.7/dist-packages (from linearmodels) (0.29.23)\n",
            "Collecting property-cached>=1.6.3\n",
            "  Downloading https://files.pythonhosted.org/packages/5c/6c/94d8e520b20a2502e508e1c558f338061cf409cbee78fd6a3a5c6ae812bd/property_cached-1.6.4-py2.py3-none-any.whl\n",
            "Requirement already satisfied: patsy in /usr/local/lib/python3.7/dist-packages (from linearmodels) (0.5.1)\n",
            "Collecting pyhdfe>=0.1\n",
            "  Downloading https://files.pythonhosted.org/packages/81/38/a53257196401029dd34c83c0528de22032d7b602e8bbcaa6d560040d42c2/pyhdfe-0.1.0-py3-none-any.whl\n",
            "Collecting statsmodels>=0.11\n",
            "\u001b[?25l  Downloading https://files.pythonhosted.org/packages/da/69/8eef30a6237c54f3c0b524140e2975f4b1eea3489b45eb3339574fc8acee/statsmodels-0.12.2-cp37-cp37m-manylinux1_x86_64.whl (9.5MB)\n",
            "\u001b[K     |████████████████████████████████| 9.5MB 32.2MB/s \n",
            "\u001b[?25hRequirement already satisfied: numpy>=1.16 in /usr/local/lib/python3.7/dist-packages (from linearmodels) (1.19.5)\n",
            "Requirement already satisfied: pandas>=0.24 in /usr/local/lib/python3.7/dist-packages (from linearmodels) (1.1.5)\n",
            "Requirement already satisfied: six in /usr/local/lib/python3.7/dist-packages (from patsy->linearmodels) (1.15.0)\n",
            "Requirement already satisfied: python-dateutil>=2.7.3 in /usr/local/lib/python3.7/dist-packages (from pandas>=0.24->linearmodels) (2.8.1)\n",
            "Requirement already satisfied: pytz>=2017.2 in /usr/local/lib/python3.7/dist-packages (from pandas>=0.24->linearmodels) (2018.9)\n",
            "Installing collected packages: mypy-extensions, property-cached, pyhdfe, statsmodels, linearmodels\n",
            "  Found existing installation: statsmodels 0.10.2\n",
            "    Uninstalling statsmodels-0.10.2:\n",
            "      Successfully uninstalled statsmodels-0.10.2\n",
            "Successfully installed linearmodels-4.24 mypy-extensions-0.4.3 property-cached-1.6.4 pyhdfe-0.1.0 statsmodels-0.12.2\n"
          ],
          "name": "stdout"
        }
      ]
    },
    {
      "cell_type": "code",
      "metadata": {
        "id": "zPkiZ_PG29pY"
      },
      "source": [
        "from linearmodels import IV2SLS"
      ],
      "execution_count": null,
      "outputs": []
    },
    {
      "cell_type": "markdown",
      "metadata": {
        "id": "XxYAEg6k5Z4t"
      },
      "source": [
        "### run an OLS"
      ]
    },
    {
      "cell_type": "code",
      "metadata": {
        "id": "VpWEbEA56Lqu"
      },
      "source": [
        "df['const'] = 1"
      ],
      "execution_count": null,
      "outputs": []
    },
    {
      "cell_type": "code",
      "metadata": {
        "colab": {
          "base_uri": "https://localhost:8080/"
        },
        "id": "bwWWAz_v3pxe",
        "outputId": "dd6667d6-599c-467e-b794-404c5c1641f7"
      },
      "source": [
        "ivolsmod = IV2SLS(df.tvlUSD, df[[\"const\",\"AdrActCnt\",\"SplyCur\",\"AdrBalCnt\"]], None, None)\n",
        "res_ols = ivolsmod.fit()\n",
        "print(res_ols)"
      ],
      "execution_count": null,
      "outputs": [
        {
          "output_type": "stream",
          "text": [
            "                            OLS Estimation Summary                            \n",
            "==============================================================================\n",
            "Dep. Variable:                 tvlUSD   R-squared:                      0.7349\n",
            "Estimator:                        OLS   Adj. R-squared:                 0.7343\n",
            "No. Observations:                1420   F-statistic:                    1471.0\n",
            "Date:                Wed, Jun 23 2021   P-value (F-stat)                0.0000\n",
            "Time:                        04:18:49   Distribution:                  chi2(3)\n",
            "Cov. Estimator:                robust                                         \n",
            "                                                                              \n",
            "                             Parameter Estimates                              \n",
            "==============================================================================\n",
            "            Parameter  Std. Err.     T-stat    P-value    Lower CI    Upper CI\n",
            "------------------------------------------------------------------------------\n",
            "const       6.443e+11  2.289e+10     28.149     0.0000   5.994e+11   6.891e+11\n",
            "AdrActCnt    1.39e+04     3033.7     4.5809     0.0000      7951.3   1.984e+04\n",
            "SplyCur       -6987.5     242.44    -28.821     0.0000     -7462.7     -6512.3\n",
            "AdrBalCnt      3337.6     111.87     29.834     0.0000      3118.4      3556.9\n",
            "==============================================================================\n"
          ],
          "name": "stdout"
        }
      ]
    },
    {
      "cell_type": "markdown",
      "metadata": {
        "id": "rgrpPK_w5fmx"
      },
      "source": [
        "### run an IV2SLS"
      ]
    },
    {
      "cell_type": "code",
      "metadata": {
        "colab": {
          "base_uri": "https://localhost:8080/"
        },
        "id": "AlJWi-_y5RUB",
        "outputId": "a77bc3b4-11b0-4143-cb60-34b83064970c"
      },
      "source": [
        "ivmod = IV2SLS(df.tvlUSD, df[[\"const\",\"AdrBalCnt\"]], df[\"AdrActCnt\"], df[\"SplyCur\"])\n",
        "res_2sls = ivmod.fit()\n",
        "print(res_2sls.summary)"
      ],
      "execution_count": null,
      "outputs": [
        {
          "output_type": "stream",
          "text": [
            "                          IV-2SLS Estimation Summary                          \n",
            "==============================================================================\n",
            "Dep. Variable:                 tvlUSD   R-squared:                      0.4235\n",
            "Estimator:                    IV-2SLS   Adj. R-squared:                 0.4227\n",
            "No. Observations:                1420   F-statistic:                    1495.9\n",
            "Date:                Wed, Jun 23 2021   P-value (F-stat)                0.0000\n",
            "Time:                        04:18:49   Distribution:                  chi2(2)\n",
            "Cov. Estimator:                robust                                         \n",
            "                                                                              \n",
            "                             Parameter Estimates                              \n",
            "==============================================================================\n",
            "            Parameter  Std. Err.     T-stat    P-value    Lower CI    Upper CI\n",
            "------------------------------------------------------------------------------\n",
            "const      -3.873e+10  1.113e+09    -34.813     0.0000  -4.091e+10  -3.655e+10\n",
            "AdrBalCnt     -99.117     44.631    -2.2208     0.0264     -186.59     -11.641\n",
            "AdrActCnt   1.282e+05     5263.2     24.361     0.0000   1.179e+05   1.385e+05\n",
            "==============================================================================\n",
            "\n",
            "Endogenous: AdrActCnt\n",
            "Instruments: SplyCur\n",
            "Robust Covariance (Heteroskedastic)\n",
            "Debiased: False\n"
          ],
          "name": "stdout"
        }
      ]
    },
    {
      "cell_type": "markdown",
      "metadata": {
        "id": "6FXJ7F2L6hjU"
      },
      "source": [
        "### comparison of the results"
      ]
    },
    {
      "cell_type": "code",
      "metadata": {
        "id": "ko-JHZ9T52eI"
      },
      "source": [
        "from collections import OrderedDict\n",
        "from linearmodels.iv.results import compare"
      ],
      "execution_count": null,
      "outputs": []
    },
    {
      "cell_type": "code",
      "metadata": {
        "colab": {
          "base_uri": "https://localhost:8080/"
        },
        "id": "2uCswn3g6rt5",
        "outputId": "d5a5cc78-0420-43dd-8a65-21b1d9eeefe7"
      },
      "source": [
        "res = OrderedDict()\n",
        "res['OLS'] = res_ols\n",
        "res['2SLS'] = res_2sls\n",
        "print(compare(res))"
      ],
      "execution_count": null,
      "outputs": [
        {
          "output_type": "stream",
          "text": [
            "                 Model Comparison                \n",
            "=================================================\n",
            "                               OLS           2SLS\n",
            "-------------------------------------------------\n",
            "Dep. Variable               tvlUSD         tvlUSD\n",
            "Estimator                      OLS        IV-2SLS\n",
            "No. Observations              1420           1420\n",
            "Cov. Est.                   robust         robust\n",
            "R-squared                   0.7349         0.4235\n",
            "Adj. R-squared              0.7343         0.4227\n",
            "F-statistic                 1471.0         1495.9\n",
            "P-value (F-stat)            0.0000         0.0000\n",
            "==================     ===========   ============\n",
            "const                    6.443e+11     -3.873e+10\n",
            "                          (28.149)      (-34.813)\n",
            "AdrActCnt                 1.39e+04      1.282e+05\n",
            "                          (4.5809)       (24.361)\n",
            "SplyCur                    -6987.5               \n",
            "                         (-28.821)               \n",
            "AdrBalCnt                   3337.6        -99.117\n",
            "                          (29.834)      (-2.2208)\n",
            "==================== ============= ==============\n",
            "Instruments                               SplyCur\n",
            "-------------------------------------------------\n",
            "\n",
            "T-stats reported in parentheses\n"
          ],
          "name": "stdout"
        }
      ]
    },
    {
      "cell_type": "markdown",
      "metadata": {
        "id": "ucuxJA-e62Eo"
      },
      "source": [
        "### Testing endogeneity"
      ]
    },
    {
      "cell_type": "markdown",
      "metadata": {
        "id": "hOrvX00o6-sI"
      },
      "source": [
        "The Durbin test is a classic of endogeneity which compares OLS estimates with 2SLS and exploits the fact that OLS estimates will be relatively efficient. Durbin’s test is not robust to heteroskedasticity."
      ]
    },
    {
      "cell_type": "code",
      "metadata": {
        "colab": {
          "base_uri": "https://localhost:8080/"
        },
        "id": "ET-0LIWQ6vuR",
        "outputId": "12bfbd34-21d5-4fe4-d5e4-60d9692520f8"
      },
      "source": [
        "res_2sls.durbin()"
      ],
      "execution_count": null,
      "outputs": [
        {
          "output_type": "execute_result",
          "data": {
            "text/plain": [
              "Durbin test of exogeneity\n",
              "H0: All endogenous variables are exogenous\n",
              "Statistic: 451.6693\n",
              "P-value: 0.0000\n",
              "Distributed: chi2(1)\n",
              "WaldTestStatistic, id: 0x7f18c9a3ce90"
            ]
          },
          "metadata": {
            "tags": []
          },
          "execution_count": 17
        }
      ]
    },
    {
      "cell_type": "markdown",
      "metadata": {
        "id": "oOc2ojRD7R7p"
      },
      "source": [
        "Wooldridge’s regression-based test of exogeneity is robust to heteroskedasticity since it inherits the covariance estimator from the model. Here there is little difference."
      ]
    },
    {
      "cell_type": "code",
      "metadata": {
        "colab": {
          "base_uri": "https://localhost:8080/"
        },
        "id": "xpOJjC6a7Bk7",
        "outputId": "10bc2fe3-d572-4e3a-8717-5fed7102aa31"
      },
      "source": [
        "res_2sls.wooldridge_regression"
      ],
      "execution_count": null,
      "outputs": [
        {
          "output_type": "execute_result",
          "data": {
            "text/plain": [
              "Wooldridge's regression test of exogeneity\n",
              "H0: Endogenous variables are exogenous\n",
              "Statistic: 830.6681\n",
              "P-value: 0.0000\n",
              "Distributed: chi2(1)\n",
              "WaldTestStatistic, id: 0x7f18a9358dd0"
            ]
          },
          "metadata": {
            "tags": []
          },
          "execution_count": 18
        }
      ]
    },
    {
      "cell_type": "markdown",
      "metadata": {
        "id": "51xkG50O7p5M"
      },
      "source": [
        "### print first stage regression"
      ]
    },
    {
      "cell_type": "code",
      "metadata": {
        "colab": {
          "base_uri": "https://localhost:8080/"
        },
        "id": "bn7PCPjl7Nwd",
        "outputId": "45382948-17aa-40be-fbf8-fe79800a1f61"
      },
      "source": [
        "print(res_2sls.first_stage)"
      ],
      "execution_count": null,
      "outputs": [
        {
          "output_type": "stream",
          "text": [
            "    First Stage Estimation Results    \n",
            "======================================\n",
            "                             AdrActCnt\n",
            "--------------------------------------\n",
            "R-squared                       0.6901\n",
            "Partial R-squared               0.3971\n",
            "Shea's R-squared                0.3971\n",
            "Partial F-statistic             829.75\n",
            "P-value (Partial F-stat)        0.0000\n",
            "Partial F-stat Distn           chi2(1)\n",
            "========================== ===========\n",
            "const                        5.975e+06\n",
            "                              (29.258)\n",
            "AdrBalCnt                       0.0301\n",
            "                              (39.433)\n",
            "SplyCur                        -0.0611\n",
            "                             (-28.805)\n",
            "--------------------------------------\n",
            "\n",
            "T-stats reported in parentheses\n",
            "T-stats use same covariance type as original model\n"
          ],
          "name": "stdout"
        }
      ]
    },
    {
      "cell_type": "markdown",
      "metadata": {
        "id": "-vP6TFhE7zVS"
      },
      "source": [
        "# Using the Statsmodel Package\n",
        "\n",
        "Not recommended"
      ]
    },
    {
      "cell_type": "markdown",
      "metadata": {
        "id": "RJzb5lIN74LQ"
      },
      "source": [
        "https://www.statsmodels.org/dev/generated/statsmodels.sandbox.regression.gmm.IV2SLS.html"
      ]
    }
  ]
}